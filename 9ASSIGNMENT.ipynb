{
 "cells": [
  {
   "cell_type": "markdown",
   "id": "7422a428-780d-437a-b285-8e829883165e",
   "metadata": {},
   "source": [
    "1.Bayes' theorem is a fundamental concept in probability theory and statistics that describes how to update the probability of a hypothesis based on new evidence. It provides a way to revise existing predictions or theories (hypotheses) given new or additional data."
   ]
  },
  {
   "cell_type": "markdown",
   "id": "f7175ca7-cb9d-4d2c-ba94-e5431047ce87",
   "metadata": {},
   "source": [
    "2.P(A∣B)=P(B|A).P(A)/P(B)"
   ]
  },
  {
   "cell_type": "markdown",
   "id": "274ad6b3-14ba-4f7e-aa2f-9ff352e93514",
   "metadata": {},
   "source": [
    "3.Bayes' theorem is used in various practical applications including:\n",
    "\n",
    "Medical Diagnosis: To update the probability of a disease given the presence of symptoms or test results.\n",
    "Spam Filtering: To classify emails as spam or not spam based on features like keywords.\n",
    "Machine Learning: In algorithms like Naive Bayes classifiers for classification tasks.\n",
    "Risk Assessment: To assess and update the risk probabilities in finance and insurance.\n",
    "Natural Language Processing: For tasks like text classification and sentiment analysis."
   ]
  },
  {
   "cell_type": "markdown",
   "id": "3898b728-0b60-4644-a2fc-ba50f70cdaf4",
   "metadata": {},
   "source": [
    "4.Bayes' theorem directly deals with conditional probabilities. It provides a mathematical relationship to compute the conditional probability of a hypothesis \n",
    "𝐴 given observed evidence \n",
    "𝐵. Specifically, it reverses the conditioning: it relates the conditional probability of \n",
    "𝐴 given \n",
    "𝐵 to the conditional probability of \n",
    "𝐵 given \n",
    "𝐴, along with the marginal probabilities of \n",
    "𝐴 and \n",
    "𝐵."
   ]
  },
  {
   "cell_type": "markdown",
   "id": "61c8890d-4457-4d1e-a62c-1b142866be19",
   "metadata": {},
   "source": [
    "5.The choice of which Naive Bayes classifier to use depends on the nature of the input data and its distribution. Here are the main types of Naive Bayes classifiers and when to use them:\n",
    "\n",
    "Gaussian Naive Bayes: Use when the features are continuous and are assumed to follow a Gaussian (normal) distribution. Commonly used in applications where the data is real-valued, such as medical and biological data.\n",
    "\n",
    "Multinomial Naive Bayes: Use when the features are discrete and represent counts or frequencies, such as word counts in text classification problems like spam detection or document categorization.\n",
    "\n",
    "Bernoulli Naive Bayes: Use when the features are binary (0/1 values), representing the presence or absence of a feature. This is suitable for text classification with binary term occurrence (e.g., whether a word appears in a document).\n",
    "\n",
    "Example of Choosing a Naive Bayes Classifier:\n",
    "Spam Email Classification: If you represent emails using word counts (e.g., how many times each word appears in an email), you would use the Multinomial Naive Bayes classifier.\n",
    "Sentiment Analysis with Binary Features: If you represent text data with binary features (e.g., whether a word is present in a document or not), you would use the Bernoulli Naive Bayes classifier.\n",
    "Classifying Continuous Data: If you have continuous data (e.g., height, weight) that you believe follows a normal distribution, you would use the Gaussian Naive Bayes classifier."
   ]
  },
  {
   "cell_type": "code",
   "execution_count": null,
   "id": "56f17487-f747-46db-8ae6-ee1281b31e4d",
   "metadata": {},
   "outputs": [],
   "source": []
  }
 ],
 "metadata": {
  "kernelspec": {
   "display_name": "Python 3 (ipykernel)",
   "language": "python",
   "name": "python3"
  },
  "language_info": {
   "codemirror_mode": {
    "name": "ipython",
    "version": 3
   },
   "file_extension": ".py",
   "mimetype": "text/x-python",
   "name": "python",
   "nbconvert_exporter": "python",
   "pygments_lexer": "ipython3",
   "version": "3.10.8"
  }
 },
 "nbformat": 4,
 "nbformat_minor": 5
}
